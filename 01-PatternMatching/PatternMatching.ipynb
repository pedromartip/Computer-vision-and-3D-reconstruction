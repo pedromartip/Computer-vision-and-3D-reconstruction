{
 "cells": [
  {
   "cell_type": "markdown",
   "id": "6aeabea6-6031-4165-8df1-93ed2e9202b2",
   "metadata": {},
   "source": [
    "# Pattern matching"
   ]
  },
  {
   "cell_type": "markdown",
   "id": "82fe5ba0-3baa-4841-8518-f18c1a421d5e",
   "metadata": {},
   "source": [
    "* https://opencv24-python-tutorials.readthedocs.io/en/latest/py_tutorials/py_imgproc/py_template_matching/py_template_matching.html\n",
    "* https://docs.opencv.org/3.4.15/df/dfb/group__imgproc__object.html#ga586ebfb0a7fb604b35a23d85391329be"
   ]
  },
  {
   "cell_type": "code",
   "execution_count": null,
   "id": "13bef83d-051c-4cb0-b126-0cad76df0f04",
   "metadata": {},
   "outputs": [],
   "source": [
    "import cv2\n",
    "import numpy as np\n",
    "import matplotlib.pyplot as plt"
   ]
  },
  {
   "cell_type": "markdown",
   "id": "dd821739-f1d2-4d79-8d2f-bf538a21d683",
   "metadata": {},
   "source": [
    "## Read the input images"
   ]
  },
  {
   "cell_type": "code",
   "execution_count": null,
   "id": "db98d4b4-b102-4ffc-b0ca-c83af910da3e",
   "metadata": {},
   "outputs": [],
   "source": [
    "im_input = cv2.imread(\"input/pacman.png\")\n",
    "plt.imshow(im_input);"
   ]
  },
  {
   "cell_type": "code",
   "execution_count": null,
   "id": "f2ce56c8-43be-400e-901f-a12a6783d1c1",
   "metadata": {},
   "outputs": [],
   "source": [
    "im_pattern = cv2.imread(\"input/input.png\")\n",
    "plt.imshow(im_pattern);"
   ]
  },
  {
   "cell_type": "markdown",
   "id": "0f38e13c-50ea-4808-9b9f-d380d99dda63",
   "metadata": {},
   "source": [
    "## Similarity measure\n",
    "* https://docs.opencv.org/3.4.15/df/dfb/group__imgproc__object.html#ga3a7850640f1fe1f58fe91a2d7583695d\n",
    "* https://stackoverflow.com/questions/55469431/what-does-the-tm-ccorr-and-tm-ccoeff-in-opencv-mean\n"
   ]
  },
  {
   "cell_type": "code",
   "execution_count": null,
   "id": "5793be70-4fc4-4cab-9662-9d172e4e7d15",
   "metadata": {},
   "outputs": [],
   "source": [
    "def sim_ccorr(m1, m2):  # https://numpy.org/doc/stable/reference/generated/numpy.multiply.html\n",
    "    return np.sum(m1*m2)"
   ]
  },
  {
   "cell_type": "markdown",
   "id": "84a8440b-6a1c-4638-b5bb-5daa4d3c20ab",
   "metadata": {},
   "source": [
    "## Procedure"
   ]
  },
  {
   "cell_type": "markdown",
   "id": "edb9eddc-6a1e-41f4-a34e-6698a50855d6",
   "metadata": {},
   "source": [
    "### Raw implementation"
   ]
  },
  {
   "cell_type": "code",
   "execution_count": null,
   "id": "cc3d6d8b-c475-4d19-a088-b157bb962acd",
   "metadata": {},
   "outputs": [],
   "source": [
    "im = cv2.cvtColor(im_input, cv2.COLOR_BGR2GRAY).astype(np.uint32)\n",
    "im_template = cv2.cvtColor(im_pattern, cv2.COLOR_BGR2GRAY).astype(np.uint32)"
   ]
  },
  {
   "cell_type": "code",
   "execution_count": null,
   "id": "5b64020a-b9a0-4690-9758-2e462aa3f67d",
   "metadata": {},
   "outputs": [],
   "source": [
    "h, w = im.shape\n",
    "template_h, template_w = im_template.shape"
   ]
  },
  {
   "cell_type": "code",
   "execution_count": null,
   "id": "a7b7f299-0100-478b-8548-47d1ae265e72",
   "metadata": {},
   "outputs": [],
   "source": [
    "%%time\n",
    "sim_map = np.zeros((h - template_h, w-template_w)) \n",
    "for y in range(h - template_h):\n",
    "    for x in range (w-template_w):\n",
    "        sim_map[y, x] = sim_ccorr(im[y:y+template_h, x:x+template_w], im_template)"
   ]
  },
  {
   "cell_type": "code",
   "execution_count": null,
   "id": "d8658d5e-7d12-4ae8-956e-7ef7c64b5286",
   "metadata": {},
   "outputs": [],
   "source": [
    "plt.imshow(sim_map, cmap = 'gray');"
   ]
  },
  {
   "cell_type": "code",
   "execution_count": null,
   "id": "5867139c-92cc-420a-8a0b-45b76f73ae99",
   "metadata": {},
   "outputs": [],
   "source": [
    "min_val, max_val, min_loc, max_loc = cv2.minMaxLoc(sim_map)\n",
    "\n",
    "top_left = max_loc\n",
    "bottom_right = (top_left[0] + template_w, top_left[1] + template_h)\n",
    "\n",
    "im_show = im_input.copy()\n",
    "cv2.rectangle(im_show, top_left, bottom_right, (0, 255, 0), 5)\n",
    "plt.imshow(im_show);"
   ]
  },
  {
   "cell_type": "code",
   "execution_count": null,
   "id": "a3f8353b-0401-4d4a-bbdd-0e14f79cc2e8",
   "metadata": {},
   "outputs": [],
   "source": [
    "threshold = 0.85* np.max(sim_map)"
   ]
  },
  {
   "cell_type": "code",
   "execution_count": null,
   "id": "93796197-2ccf-4ac1-921e-6a0b43ac2b58",
   "metadata": {},
   "outputs": [],
   "source": [
    "im_show = im_input.copy()\n",
    "y, x = np.where(sim_map >= threshold)\n",
    "for pt in zip(x, y):\n",
    "    cv2.rectangle(im_show, pt, (pt[0] + template_w, pt[1] + template_h), (0,255,0), 5)"
   ]
  },
  {
   "cell_type": "code",
   "execution_count": null,
   "id": "d9ac4a20-66fb-4197-925d-8b488819cd95",
   "metadata": {},
   "outputs": [],
   "source": [
    "plt.imshow(im_show);"
   ]
  },
  {
   "cell_type": "markdown",
   "id": "0b4d76c9-04dd-48b4-900e-f8dee8fa61c2",
   "metadata": {},
   "source": [
    "### OpenCV implementation"
   ]
  },
  {
   "cell_type": "code",
   "execution_count": null,
   "id": "47627f9a-c414-415c-b346-fc59099f14b4",
   "metadata": {},
   "outputs": [],
   "source": [
    "# Required image codification for the algorithm\n",
    "im = im.astype(np.uint8)\n",
    "im_template = im_template.astype(np.uint8)"
   ]
  },
  {
   "cell_type": "code",
   "execution_count": null,
   "id": "aa5f10b3-19e7-49da-99d7-bec5589c954f",
   "metadata": {},
   "outputs": [],
   "source": [
    "%%time\n",
    "res = cv2.matchTemplate(im,im_template,cv2.TM_CCORR) "
   ]
  },
  {
   "cell_type": "code",
   "execution_count": null,
   "id": "83fc8f34-6809-4f40-929e-6aa6f1682970",
   "metadata": {},
   "outputs": [],
   "source": [
    "res = cv2.matchTemplate(im,im_template,cv2.TM_CCORR)\n",
    "\n",
    "im_show = im_input.copy()\n",
    "threshold = 0.85* np.max(res)\n",
    "loc = np.where( res >= threshold)\n",
    "for pt in zip(*loc[::-1]):\n",
    "    cv2.rectangle(im_show, pt, (pt[0] + template_w, pt[1] + template_h), (0,0,255), 2)\n",
    "\n",
    "plt.subplot(121),plt.imshow(res, cmap = 'gray')\n",
    "plt.title('Matching Result'), plt.xticks([]), plt.yticks([])\n",
    "plt.subplot(122),plt.imshow(im_show,cmap = 'gray')\n",
    "plt.title('Detected Point'), plt.xticks([]), plt.yticks([]);"
   ]
  },
  {
   "cell_type": "markdown",
   "id": "5ebea1d4-5204-442e-aca7-059ee307665a",
   "metadata": {},
   "source": [
    "## Tasks\n",
    "* Compare execution time between the two implementations.\n",
    "* Why there are some pacmans better detected than others?\n",
    "* Change the size of the pattern image (cv2.resize). How do the results change?\n",
    "* Make a slight rotation of the pattern image (cv2.rotate). How do the results change?\n",
    "* What could be the utility of the rotation and the resize of the template image?"
   ]
  },
  {
   "cell_type": "code",
   "execution_count": null,
   "id": "78c8c5b4-09e2-41bb-895e-60427118cacb",
   "metadata": {},
   "outputs": [],
   "source": [
    "plt.imshow(im_template)"
   ]
  },
  {
   "cell_type": "code",
   "execution_count": null,
   "id": "8f7e2b9c-e35e-47b8-957c-bb85ad241f79",
   "metadata": {},
   "outputs": [],
   "source": [
    "image = cv2.rotate(im_template, cv2.cv2.ROTATE_90_CLOCKWISE)\n",
    "plt.imshow(image)"
   ]
  },
  {
   "cell_type": "markdown",
   "id": "ff4fec2a-683c-4338-b22c-773d57bc20f9",
   "metadata": {},
   "source": [
    "To rotate a specific number of degrees you can use the function: cv2.wrapAffine\n",
    "\n",
    "https://www.pyimagesearch.com/2017/01/02/rotate-images-correctly-with-opencv-and-python/"
   ]
  },
  {
   "cell_type": "code",
   "execution_count": null,
   "id": "124e59de-7801-4e81-afab-e810f3f16bdb",
   "metadata": {},
   "outputs": [],
   "source": [
    "im_template.shape"
   ]
  },
  {
   "cell_type": "code",
   "execution_count": null,
   "id": "260f3c32-bdb2-448c-8106-1f17dab74af1",
   "metadata": {},
   "outputs": [],
   "source": [
    "new_shape = (100, 100)\n",
    "image = cv2.resize(im_template, new_shape, interpolation= cv2.INTER_LINEAR)\n",
    "plt.imshow(image)"
   ]
  },
  {
   "cell_type": "code",
   "execution_count": null,
   "id": "e99c3f85-c15b-4857-ab2f-6711e58b71ba",
   "metadata": {},
   "outputs": [],
   "source": []
  }
 ],
 "metadata": {
  "kernelspec": {
   "display_name": "Python 3 (ipykernel)",
   "language": "python",
   "name": "python3"
  },
  "language_info": {
   "codemirror_mode": {
    "name": "ipython",
    "version": 3
   },
   "file_extension": ".py",
   "mimetype": "text/x-python",
   "name": "python",
   "nbconvert_exporter": "python",
   "pygments_lexer": "ipython3",
   "version": "3.9.6"
  }
 },
 "nbformat": 4,
 "nbformat_minor": 5
}
